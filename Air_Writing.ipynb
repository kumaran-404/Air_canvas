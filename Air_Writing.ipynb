{
  "cells": [
    {
      "cell_type": "markdown",
      "metadata": {
        "id": "view-in-github",
        "colab_type": "text"
      },
      "source": [
        "<a href=\"https://colab.research.google.com/github/kumaran-404/Air_canvas/blob/main/Air_Writing.ipynb\" target=\"_parent\"><img src=\"https://colab.research.google.com/assets/colab-badge.svg\" alt=\"Open In Colab\"/></a>"
      ]
    },
    {
      "cell_type": "code",
      "execution_count": null,
      "metadata": {
        "id": "ZrgyySHTKvsR"
      },
      "outputs": [],
      "source": [
        "import pandas as pd \n",
        "from keras.datasets import mnist\n",
        "import numpy as np \n",
        "import keras \n",
        "import cv2 "
      ]
    },
    {
      "cell_type": "code",
      "source": [
        "eight = []"
      ],
      "metadata": {
        "id": "uenZOMbAGQxj"
      },
      "execution_count": 11,
      "outputs": []
    },
    {
      "cell_type": "markdown",
      "source": [
        "*Sample Image Augmentation for Digit 8*"
      ],
      "metadata": {
        "id": "bkm3XvjyGWfB"
      }
    },
    {
      "cell_type": "code",
      "source": [
        "from keras.preprocessing.image import ImageDataGenerator\n",
        "from numpy import expand_dims \n",
        "from PIL import Image\n",
        "import numpy as np \n",
        "\n",
        "image1 = Image.open('/content/8_1.png')\n",
        "image2 =Image.open('/content/8_2.png')\n",
        "image3 = Image.open('/content/8_3.png')\n",
        "\n",
        "\n",
        "datagen = ImageDataGenerator(brightness_range=[0.2,1.0],rotation_range=45,zoom_range=[0.5,1.0])\n",
        "\n",
        "data1 = np.asarray(image1)\n",
        "data2 = np.asarray(image2)\n",
        "data3 = np.asarray(image3)\n",
        "\n",
        "k = []\n",
        "k.append(data1)\n",
        "k.append(data2)\n",
        "k.append(data3)\n",
        "\n",
        "k = np.array(k)\n",
        "#samples = expand_dims(data, 0)\n",
        "# create image data augmentation generator\n",
        "datagen = ImageDataGenerator(zoom_range=[0.5,1.0])\n",
        "# prepare iterator\n",
        "a = \"\"\n",
        "count = 0 \n",
        "it = datagen.flow(k, batch_size=3)\n",
        "# generate samples and plot\n",
        "for i in range(1200):\n",
        "  print(count) \n",
        "  count+=1 \n",
        "  batch = it.next()\n",
        "  image = batch[0].astype('uint8')\n",
        "  a  =image[:,:,0]\n",
        "  a = a.reshape(296*196,)\n",
        "  eight.append(a)\n",
        "  \n",
        "  # show the figure\n",
        "\n",
        "eight= np.array(eight)\n",
        "\n"
      ],
      "metadata": {
        "id": "QwgjOvfCPNpW"
      },
      "execution_count": null,
      "outputs": []
    },
    {
      "cell_type": "markdown",
      "source": [
        "Loading saved Numpy Image array from google drive"
      ],
      "metadata": {
        "id": "TEjqAK6VGsEo"
      }
    },
    {
      "cell_type": "code",
      "source": [
        "from google.colab import drive\n",
        "drive.mount('/content/drive')"
      ],
      "metadata": {
        "colab": {
          "base_uri": "https://localhost:8080/"
        },
        "id": "pO0B_g-_XSSu",
        "outputId": "38cc5eb4-7a37-48ee-86cb-d1df600899c6"
      },
      "execution_count": 9,
      "outputs": [
        {
          "output_type": "stream",
          "name": "stdout",
          "text": [
            "Drive already mounted at /content/drive; to attempt to forcibly remount, call drive.mount(\"/content/drive\", force_remount=True).\n"
          ]
        }
      ]
    },
    {
      "cell_type": "code",
      "source": [
        "import numpy as np\n",
        "\n",
        "a = np.load(\"/content/drive/MyDrive/1234.npz\")\n",
        "a = a[\"arr_0\"]\n",
        "b = np.load(\"/content/drive/MyDrive/5678.npz\")\n",
        "b = b[\"arr_0\"]\n",
        "c = np.concatenate((a,b))\n",
        "\n",
        "\n"
      ],
      "metadata": {
        "id": "uJb9KVwl7Hgg"
      },
      "execution_count": 5,
      "outputs": []
    },
    {
      "cell_type": "markdown",
      "source": [
        "Sample Image from datset"
      ],
      "metadata": {
        "id": "kQaP-Ae0J0gE"
      }
    },
    {
      "cell_type": "code",
      "source": [
        "from matplotlib import pyplot as plt \n",
        "import random \n",
        "plt.figure(figsize = (12,10))\n",
        "row, colums = 4, 4\n",
        "for i in range(16):  \n",
        "    plt.subplot(colums, row, i+1)\n",
        "    plt.imshow(c[random.randint(0,9600)].reshape((296,196)),interpolation='nearest', cmap='Greys')\n",
        "plt.show()\n"
      ],
      "metadata": {
        "colab": {
          "base_uri": "https://localhost:8080/",
          "height": 595
        },
        "id": "s6Nu5SIrJK74",
        "outputId": "52d5b31b-4c28-451d-c8da-7386c3fdbec8"
      },
      "execution_count": 8,
      "outputs": [
        {
          "output_type": "display_data",
          "data": {
            "text/plain": [
              "<Figure size 864x720 with 16 Axes>"
            ],
            "image/png": "[encoded data removed]"
          },
          "metadata": {
            "needs_background": "light"
          }
        }
      ]
    },
    {
      "cell_type": "markdown",
      "source": [
        " **Model**"
      ],
      "metadata": {
        "id": "UTdVmoSqG0oU"
      }
    },
    {
      "cell_type": "code",
      "source": [
        "from tensorflow.keras.models import Sequential\n",
        "from tensorflow.keras.layers import Dense\n",
        "from tensorflow.keras import Model, Input\n",
        "\n",
        "\n",
        "input_layer = Input(shape=((58016,)), name='input') # 3 dimensional input\n",
        "hidden_layer1 = Dense(units=2000, activation=\"sigmoid\", name=\"hidden_layer1\")(input_layer)\n",
        "hidden_layer2 = Dense(units=2000, activation=\"sigmoid\", name=\"hidden_layer2\")(hidden_layer1)\n",
        "output_layer = Dense(units=8, activation=\"sigmoid\", name=\"output_layer\")(hidden_layer2)\n",
        "\n",
        "\n",
        "# Create the model\n",
        "model = Model(input_layer, output_layer)\n",
        "\n",
        "model.compile(loss='sparse_categorical_crossentropy', optimizer='adam', metrics=['accuracy'])\n",
        "model.summary()"
      ],
      "metadata": {
        "id": "okKdtko85kHm"
      },
      "execution_count": null,
      "outputs": []
    },
    {
      "cell_type": "code",
      "source": [
        "k=[]\n",
        "for i in range(0,8):\n",
        "  for j in range(1200):\n",
        "    k.append(i)\n",
        "\n",
        "k= np.array(k)\n",
        "k.shape"
      ],
      "metadata": {
        "colab": {
          "base_uri": "https://localhost:8080/"
        },
        "id": "R19xvnNAVkjW",
        "outputId": "8782079f-2b48-453f-ad63-30ed11f4caee"
      },
      "execution_count": 3,
      "outputs": [
        {
          "output_type": "execute_result",
          "data": {
            "text/plain": [
              "(9600,)"
            ]
          },
          "metadata": {},
          "execution_count": 3
        }
      ]
    },
    {
      "cell_type": "code",
      "source": [
        "#model training\n",
        "model.fit(c,k,epochs=5)"
      ],
      "metadata": {
        "colab": {
          "base_uri": "https://localhost:8080/"
        },
        "id": "uTFTaEatbeFr",
        "outputId": "709bb35b-e48b-4f29-d692-476daa3bbc3a"
      },
      "execution_count": 6,
      "outputs": [
        {
          "output_type": "stream",
          "name": "stdout",
          "text": [
            "Epoch 1/5\n",
            "300/300 [==============================] - 309s 1s/step - loss: 0.5893 - accuracy: 0.7821\n",
            "Epoch 2/5\n",
            "300/300 [==============================] - 307s 1s/step - loss: 0.1947 - accuracy: 0.8737\n",
            "Epoch 3/5\n",
            "300/300 [==============================] - 310s 1s/step - loss: 0.1875 - accuracy: 0.8775\n",
            "Epoch 4/5\n",
            "300/300 [==============================] - 306s 1s/step - loss: 0.1824 - accuracy: 0.8749\n",
            "Epoch 5/5\n",
            "300/300 [==============================] - 315s 1s/step - loss: 0.1827 - accuracy: 0.8746\n"
          ]
        },
        {
          "output_type": "execute_result",
          "data": {
            "text/plain": [
              "<keras.callbacks.History at 0x7fb5deac6d90>"
            ]
          },
          "metadata": {},
          "execution_count": 6
        }
      ]
    },
    {
      "cell_type": "code",
      "source": [
        "#saving model locally\n",
        "model.save(\"final_model_done\")"
      ],
      "metadata": {
        "id": "uzV32YxX9yt-"
      },
      "execution_count": 8,
      "outputs": []
    },
    {
      "cell_type": "code",
      "source": [
        "#saving to g-drive\n",
        "!cp -r \"/content/final_model_done\" \"/content/drive/MyDrive/final_model_done\""
      ],
      "metadata": {
        "id": "sukc-JHuE28E"
      },
      "execution_count": 10,
      "outputs": []
    },
    {
      "cell_type": "code",
      "source": [
        "#calculating accuracy\n",
        "model.evaluate(c,k)"
      ],
      "metadata": {
        "colab": {
          "base_uri": "https://localhost:8080/"
        },
        "id": "_O2y4su95oCB",
        "outputId": "cf171554-29ba-4013-8fd8-a6189175586c"
      },
      "execution_count": null,
      "outputs": [
        {
          "output_type": "stream",
          "name": "stdout",
          "text": [
            "300/300 [==============================] - 66s 219ms/step - loss: 0.1747 - accuracy: 0.8750\n"
          ]
        },
        {
          "output_type": "execute_result",
          "data": {
            "text/plain": [
              "[0.17465274035930634, 0.875]"
            ]
          },
          "metadata": {},
          "execution_count": 24
        }
      ]
    },
    {
      "cell_type": "markdown",
      "source": [
        "g-drive model link : \n",
        "https://drive.google.com/drive/folders/1bFhj-bEaJPS9dK3vMWmLzd8TDyltaCmc?usp=sharing"
      ],
      "metadata": {
        "id": "y3_GcjcxMo9f"
      }
    }
  ],
  "metadata": {
    "colab": {
      "provenance": [],
      "collapsed_sections": [],
      "toc_visible": true,
      "authorship_tag": "ABX9TyMpVPCcgA1K5H5isPn7n24v",
      "include_colab_link": true
    },
    "kernelspec": {
      "display_name": "Python 3",
      "name": "python3"
    },
    "language_info": {
      "name": "python"
    },
    "gpuClass": "standard"
  },
  "nbformat": 4,
  "nbformat_minor": 0
}